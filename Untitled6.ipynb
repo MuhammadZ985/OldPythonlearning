{
 "cells": [
  {
   "cell_type": "code",
   "execution_count": 1,
   "metadata": {},
   "outputs": [],
   "source": [
    "import seaborn as sns"
   ]
  },
  {
   "cell_type": "code",
   "execution_count": 2,
   "metadata": {},
   "outputs": [],
   "source": [
    "tips = sns.load_dataset('tips')"
   ]
  },
  {
   "cell_type": "code",
   "execution_count": 3,
   "metadata": {},
   "outputs": [
    {
     "data": {
      "text/html": [
       "<div>\n",
       "<style scoped>\n",
       "    .dataframe tbody tr th:only-of-type {\n",
       "        vertical-align: middle;\n",
       "    }\n",
       "\n",
       "    .dataframe tbody tr th {\n",
       "        vertical-align: top;\n",
       "    }\n",
       "\n",
       "    .dataframe thead th {\n",
       "        text-align: right;\n",
       "    }\n",
       "</style>\n",
       "<table border=\"1\" class=\"dataframe\">\n",
       "  <thead>\n",
       "    <tr style=\"text-align: right;\">\n",
       "      <th></th>\n",
       "      <th>total_bill</th>\n",
       "      <th>tip</th>\n",
       "      <th>sex</th>\n",
       "      <th>smoker</th>\n",
       "      <th>day</th>\n",
       "      <th>time</th>\n",
       "      <th>size</th>\n",
       "    </tr>\n",
       "  </thead>\n",
       "  <tbody>\n",
       "    <tr>\n",
       "      <th>0</th>\n",
       "      <td>16.99</td>\n",
       "      <td>1.01</td>\n",
       "      <td>Female</td>\n",
       "      <td>No</td>\n",
       "      <td>Sun</td>\n",
       "      <td>Dinner</td>\n",
       "      <td>2</td>\n",
       "    </tr>\n",
       "    <tr>\n",
       "      <th>1</th>\n",
       "      <td>10.34</td>\n",
       "      <td>1.66</td>\n",
       "      <td>Male</td>\n",
       "      <td>No</td>\n",
       "      <td>Sun</td>\n",
       "      <td>Dinner</td>\n",
       "      <td>3</td>\n",
       "    </tr>\n",
       "    <tr>\n",
       "      <th>2</th>\n",
       "      <td>21.01</td>\n",
       "      <td>3.50</td>\n",
       "      <td>Male</td>\n",
       "      <td>No</td>\n",
       "      <td>Sun</td>\n",
       "      <td>Dinner</td>\n",
       "      <td>3</td>\n",
       "    </tr>\n",
       "    <tr>\n",
       "      <th>3</th>\n",
       "      <td>23.68</td>\n",
       "      <td>3.31</td>\n",
       "      <td>Male</td>\n",
       "      <td>No</td>\n",
       "      <td>Sun</td>\n",
       "      <td>Dinner</td>\n",
       "      <td>2</td>\n",
       "    </tr>\n",
       "    <tr>\n",
       "      <th>4</th>\n",
       "      <td>24.59</td>\n",
       "      <td>3.61</td>\n",
       "      <td>Female</td>\n",
       "      <td>No</td>\n",
       "      <td>Sun</td>\n",
       "      <td>Dinner</td>\n",
       "      <td>4</td>\n",
       "    </tr>\n",
       "    <tr>\n",
       "      <th>...</th>\n",
       "      <td>...</td>\n",
       "      <td>...</td>\n",
       "      <td>...</td>\n",
       "      <td>...</td>\n",
       "      <td>...</td>\n",
       "      <td>...</td>\n",
       "      <td>...</td>\n",
       "    </tr>\n",
       "    <tr>\n",
       "      <th>239</th>\n",
       "      <td>29.03</td>\n",
       "      <td>5.92</td>\n",
       "      <td>Male</td>\n",
       "      <td>No</td>\n",
       "      <td>Sat</td>\n",
       "      <td>Dinner</td>\n",
       "      <td>3</td>\n",
       "    </tr>\n",
       "    <tr>\n",
       "      <th>240</th>\n",
       "      <td>27.18</td>\n",
       "      <td>2.00</td>\n",
       "      <td>Female</td>\n",
       "      <td>Yes</td>\n",
       "      <td>Sat</td>\n",
       "      <td>Dinner</td>\n",
       "      <td>2</td>\n",
       "    </tr>\n",
       "    <tr>\n",
       "      <th>241</th>\n",
       "      <td>22.67</td>\n",
       "      <td>2.00</td>\n",
       "      <td>Male</td>\n",
       "      <td>Yes</td>\n",
       "      <td>Sat</td>\n",
       "      <td>Dinner</td>\n",
       "      <td>2</td>\n",
       "    </tr>\n",
       "    <tr>\n",
       "      <th>242</th>\n",
       "      <td>17.82</td>\n",
       "      <td>1.75</td>\n",
       "      <td>Male</td>\n",
       "      <td>No</td>\n",
       "      <td>Sat</td>\n",
       "      <td>Dinner</td>\n",
       "      <td>2</td>\n",
       "    </tr>\n",
       "    <tr>\n",
       "      <th>243</th>\n",
       "      <td>18.78</td>\n",
       "      <td>3.00</td>\n",
       "      <td>Female</td>\n",
       "      <td>No</td>\n",
       "      <td>Thur</td>\n",
       "      <td>Dinner</td>\n",
       "      <td>2</td>\n",
       "    </tr>\n",
       "  </tbody>\n",
       "</table>\n",
       "<p>244 rows × 7 columns</p>\n",
       "</div>"
      ],
      "text/plain": [
       "     total_bill   tip     sex smoker   day    time  size\n",
       "0         16.99  1.01  Female     No   Sun  Dinner     2\n",
       "1         10.34  1.66    Male     No   Sun  Dinner     3\n",
       "2         21.01  3.50    Male     No   Sun  Dinner     3\n",
       "3         23.68  3.31    Male     No   Sun  Dinner     2\n",
       "4         24.59  3.61  Female     No   Sun  Dinner     4\n",
       "..          ...   ...     ...    ...   ...     ...   ...\n",
       "239       29.03  5.92    Male     No   Sat  Dinner     3\n",
       "240       27.18  2.00  Female    Yes   Sat  Dinner     2\n",
       "241       22.67  2.00    Male    Yes   Sat  Dinner     2\n",
       "242       17.82  1.75    Male     No   Sat  Dinner     2\n",
       "243       18.78  3.00  Female     No  Thur  Dinner     2\n",
       "\n",
       "[244 rows x 7 columns]"
      ]
     },
     "execution_count": 3,
     "metadata": {},
     "output_type": "execute_result"
    }
   ],
   "source": [
    "tips"
   ]
  },
  {
   "cell_type": "code",
   "execution_count": 19,
   "metadata": {},
   "outputs": [
    {
     "data": {
      "text/plain": [
       "<seaborn.axisgrid.JointGrid at 0x20c7fdfe0c8>"
      ]
     },
     "execution_count": 19,
     "metadata": {},
     "output_type": "execute_result"
    },
    {
     "data": {
      "image/png": "[encoded data removed]",
      "text/plain": [
       "<Figure size 432x432 with 3 Axes>"
      ]
     },
     "metadata": {
      "needs_background": "light"
     },
     "output_type": "display_data"
    }
   ],
   "source": [
    "sns.jointplot( x = \"size\", y = \"tip\", data = tips)"
   ]
  },
  {
   "cell_type": "code",
   "execution_count": 20,
   "metadata": {},
   "outputs": [],
   "source": [
    "flights = sns.load_dataset(\"flights\")"
   ]
  },
  {
   "cell_type": "code",
   "execution_count": 21,
   "metadata": {},
   "outputs": [
    {
     "data": {
      "text/html": [
       "<div>\n",
       "<style scoped>\n",
       "    .dataframe tbody tr th:only-of-type {\n",
       "        vertical-align: middle;\n",
       "    }\n",
       "\n",
       "    .dataframe tbody tr th {\n",
       "        vertical-align: top;\n",
       "    }\n",
       "\n",
       "    .dataframe thead th {\n",
       "        text-align: right;\n",
       "    }\n",
       "</style>\n",
       "<table border=\"1\" class=\"dataframe\">\n",
       "  <thead>\n",
       "    <tr style=\"text-align: right;\">\n",
       "      <th></th>\n",
       "      <th>year</th>\n",
       "      <th>month</th>\n",
       "      <th>passengers</th>\n",
       "    </tr>\n",
       "  </thead>\n",
       "  <tbody>\n",
       "    <tr>\n",
       "      <th>0</th>\n",
       "      <td>1949</td>\n",
       "      <td>January</td>\n",
       "      <td>112</td>\n",
       "    </tr>\n",
       "    <tr>\n",
       "      <th>1</th>\n",
       "      <td>1949</td>\n",
       "      <td>February</td>\n",
       "      <td>118</td>\n",
       "    </tr>\n",
       "    <tr>\n",
       "      <th>2</th>\n",
       "      <td>1949</td>\n",
       "      <td>March</td>\n",
       "      <td>132</td>\n",
       "    </tr>\n",
       "    <tr>\n",
       "      <th>3</th>\n",
       "      <td>1949</td>\n",
       "      <td>April</td>\n",
       "      <td>129</td>\n",
       "    </tr>\n",
       "    <tr>\n",
       "      <th>4</th>\n",
       "      <td>1949</td>\n",
       "      <td>May</td>\n",
       "      <td>121</td>\n",
       "    </tr>\n",
       "    <tr>\n",
       "      <th>...</th>\n",
       "      <td>...</td>\n",
       "      <td>...</td>\n",
       "      <td>...</td>\n",
       "    </tr>\n",
       "    <tr>\n",
       "      <th>139</th>\n",
       "      <td>1960</td>\n",
       "      <td>August</td>\n",
       "      <td>606</td>\n",
       "    </tr>\n",
       "    <tr>\n",
       "      <th>140</th>\n",
       "      <td>1960</td>\n",
       "      <td>September</td>\n",
       "      <td>508</td>\n",
       "    </tr>\n",
       "    <tr>\n",
       "      <th>141</th>\n",
       "      <td>1960</td>\n",
       "      <td>October</td>\n",
       "      <td>461</td>\n",
       "    </tr>\n",
       "    <tr>\n",
       "      <th>142</th>\n",
       "      <td>1960</td>\n",
       "      <td>November</td>\n",
       "      <td>390</td>\n",
       "    </tr>\n",
       "    <tr>\n",
       "      <th>143</th>\n",
       "      <td>1960</td>\n",
       "      <td>December</td>\n",
       "      <td>432</td>\n",
       "    </tr>\n",
       "  </tbody>\n",
       "</table>\n",
       "<p>144 rows × 3 columns</p>\n",
       "</div>"
      ],
      "text/plain": [
       "     year      month  passengers\n",
       "0    1949    January         112\n",
       "1    1949   February         118\n",
       "2    1949      March         132\n",
       "3    1949      April         129\n",
       "4    1949        May         121\n",
       "..    ...        ...         ...\n",
       "139  1960     August         606\n",
       "140  1960  September         508\n",
       "141  1960    October         461\n",
       "142  1960   November         390\n",
       "143  1960   December         432\n",
       "\n",
       "[144 rows x 3 columns]"
      ]
     },
     "execution_count": 21,
     "metadata": {},
     "output_type": "execute_result"
    }
   ],
   "source": [
    "flights"
   ]
  },
  {
   "cell_type": "code",
   "execution_count": 22,
   "metadata": {},
   "outputs": [],
   "source": [
    "iris = sns.load_dataset(\"iris\")"
   ]
  },
  {
   "cell_type": "code",
   "execution_count": 23,
   "metadata": {},
   "outputs": [
    {
     "data": {
      "text/html": [
       "<div>\n",
       "<style scoped>\n",
       "    .dataframe tbody tr th:only-of-type {\n",
       "        vertical-align: middle;\n",
       "    }\n",
       "\n",
       "    .dataframe tbody tr th {\n",
       "        vertical-align: top;\n",
       "    }\n",
       "\n",
       "    .dataframe thead th {\n",
       "        text-align: right;\n",
       "    }\n",
       "</style>\n",
       "<table border=\"1\" class=\"dataframe\">\n",
       "  <thead>\n",
       "    <tr style=\"text-align: right;\">\n",
       "      <th></th>\n",
       "      <th>sepal_length</th>\n",
       "      <th>sepal_width</th>\n",
       "      <th>petal_length</th>\n",
       "      <th>petal_width</th>\n",
       "      <th>species</th>\n",
       "    </tr>\n",
       "  </thead>\n",
       "  <tbody>\n",
       "    <tr>\n",
       "      <th>0</th>\n",
       "      <td>5.1</td>\n",
       "      <td>3.5</td>\n",
       "      <td>1.4</td>\n",
       "      <td>0.2</td>\n",
       "      <td>setosa</td>\n",
       "    </tr>\n",
       "    <tr>\n",
       "      <th>1</th>\n",
       "      <td>4.9</td>\n",
       "      <td>3.0</td>\n",
       "      <td>1.4</td>\n",
       "      <td>0.2</td>\n",
       "      <td>setosa</td>\n",
       "    </tr>\n",
       "    <tr>\n",
       "      <th>2</th>\n",
       "      <td>4.7</td>\n",
       "      <td>3.2</td>\n",
       "      <td>1.3</td>\n",
       "      <td>0.2</td>\n",
       "      <td>setosa</td>\n",
       "    </tr>\n",
       "    <tr>\n",
       "      <th>3</th>\n",
       "      <td>4.6</td>\n",
       "      <td>3.1</td>\n",
       "      <td>1.5</td>\n",
       "      <td>0.2</td>\n",
       "      <td>setosa</td>\n",
       "    </tr>\n",
       "    <tr>\n",
       "      <th>4</th>\n",
       "      <td>5.0</td>\n",
       "      <td>3.6</td>\n",
       "      <td>1.4</td>\n",
       "      <td>0.2</td>\n",
       "      <td>setosa</td>\n",
       "    </tr>\n",
       "    <tr>\n",
       "      <th>...</th>\n",
       "      <td>...</td>\n",
       "      <td>...</td>\n",
       "      <td>...</td>\n",
       "      <td>...</td>\n",
       "      <td>...</td>\n",
       "    </tr>\n",
       "    <tr>\n",
       "      <th>145</th>\n",
       "      <td>6.7</td>\n",
       "      <td>3.0</td>\n",
       "      <td>5.2</td>\n",
       "      <td>2.3</td>\n",
       "      <td>virginica</td>\n",
       "    </tr>\n",
       "    <tr>\n",
       "      <th>146</th>\n",
       "      <td>6.3</td>\n",
       "      <td>2.5</td>\n",
       "      <td>5.0</td>\n",
       "      <td>1.9</td>\n",
       "      <td>virginica</td>\n",
       "    </tr>\n",
       "    <tr>\n",
       "      <th>147</th>\n",
       "      <td>6.5</td>\n",
       "      <td>3.0</td>\n",
       "      <td>5.2</td>\n",
       "      <td>2.0</td>\n",
       "      <td>virginica</td>\n",
       "    </tr>\n",
       "    <tr>\n",
       "      <th>148</th>\n",
       "      <td>6.2</td>\n",
       "      <td>3.4</td>\n",
       "      <td>5.4</td>\n",
       "      <td>2.3</td>\n",
       "      <td>virginica</td>\n",
       "    </tr>\n",
       "    <tr>\n",
       "      <th>149</th>\n",
       "      <td>5.9</td>\n",
       "      <td>3.0</td>\n",
       "      <td>5.1</td>\n",
       "      <td>1.8</td>\n",
       "      <td>virginica</td>\n",
       "    </tr>\n",
       "  </tbody>\n",
       "</table>\n",
       "<p>150 rows × 5 columns</p>\n",
       "</div>"
      ],
      "text/plain": [
       "     sepal_length  sepal_width  petal_length  petal_width    species\n",
       "0             5.1          3.5           1.4          0.2     setosa\n",
       "1             4.9          3.0           1.4          0.2     setosa\n",
       "2             4.7          3.2           1.3          0.2     setosa\n",
       "3             4.6          3.1           1.5          0.2     setosa\n",
       "4             5.0          3.6           1.4          0.2     setosa\n",
       "..            ...          ...           ...          ...        ...\n",
       "145           6.7          3.0           5.2          2.3  virginica\n",
       "146           6.3          2.5           5.0          1.9  virginica\n",
       "147           6.5          3.0           5.2          2.0  virginica\n",
       "148           6.2          3.4           5.4          2.3  virginica\n",
       "149           5.9          3.0           5.1          1.8  virginica\n",
       "\n",
       "[150 rows x 5 columns]"
      ]
     },
     "execution_count": 23,
     "metadata": {},
     "output_type": "execute_result"
    }
   ],
   "source": [
    "iris"
   ]
  },
  {
   "cell_type": "code",
   "execution_count": 1,
   "metadata": {},
   "outputs": [
    {
     "ename": "SyntaxError",
     "evalue": "invalid syntax (<ipython-input-1-ecbe6b8a3aba>, line 1)",
     "output_type": "error",
     "traceback": [
      "\u001b[1;36m  File \u001b[1;32m\"<ipython-input-1-ecbe6b8a3aba>\"\u001b[1;36m, line \u001b[1;32m1\u001b[0m\n\u001b[1;33m    x=1. reception_euq@ursulinesquebec.com 2. st-johnsemail@rsb.qc.ca 3. warren.thomson@cqsb.qc.ca 4. joanne.arsenault@cqsb.qc.ca 5. karolyne.bouchard@cqsb.qc.ca 6. josee.simard@cqsb.qc.ca 7. christopher.wotherspoon@cqsb.qc.ca 8. penelopejoy.webster@cqsb.qc.ca 9. stephane.tremblay@cqsb.qc.ca 10. edward.sweeney@cqsb.qc.ca 11. sophie.couture@cqsb.qc.ca 12. suzie.chiasson-renaud@cqsb.qc.ca 13. eric.berube@cqsb.qc.ca 14. daniel.parent@cqsb.qc.ca 15. essam.abdelhamid@cqsb.qc.ca 16. annie.aube@cqsb.qc.ca 17. daniel.awalt@cqsb.qc.ca 18. denis-francis.beauchamp@cqsb.qc.ca 19. sarah.blair@cqsb.qc.ca 20. marne.bourbonnais@cqsb.qc.ca 21. julie.bown@cqsb.qc.ca 22. paula.breton@cqsb.qc.ca 23. maarten.buyck@cqsb.qc.ca 24. brenda.Leveillee-Cauchy@cqsb.qc.ca 25. derek.chan@cqsb.qc.ca 26. gregory.domonkos@cqsb.qc.ca 27. rickey.dwyer@cqsb.qc.ca 28. douglas.grant@cqsb.qc.ca 29. amanda.kusler@cqsb.qc.ca 30. david.lagace@cqsb.qc.ca 31. margaret.mcdonald@cqsb.qc.ca 32. daniel.weston@cqsb.qc.ca 33. julie.white@cqsb.qc.ca 34. susana.meisels@cqsb.qc.ca 35. Marie-Eve.Girard@cqsb.qc.ca  36. Catherine.OGallagher@cqsb.qc.ca  37. Katherine.Mackay@cqsb.qc.ca  38. Angelie.Caissy@cqsb.qc.ca  39. Natalie.Haberlin@cqsb.qc.ca  40. sarah.bernadet@cqsb.qc.ca 41. Jennifer.Anderson@cqsb.qc.ca 42. Stephanie.Beaudoin@cqsb.qc.ca 43. Anne-Marie.Pelletier@cqsb.qc.ca 44. Véronique.mailhot@cqsb.qc.ca 45. Kassandra.houle@cqsb.qc.ca 46. tracey.martin@cqsb.qc.ca 47. Paula.parsons@cqsb.qc.ca 48. Tiffany.Smith@cqsb.qc.ca 49. Martin.Trager@cqsb.qc.ca 50. Melissa.Verreault@cqsb.qc.ca 51. Emily.Talbot-Lagloire@cqsb.qc.ca 52. Lonergan@cqsb.qc.ca 53. Viviane.Gelinas@cqsb.qc.ca 54. Chantale.Caron@cqsb.qc.ca 55. Kimberly.Martel@cqsb.qc.ca 56. Marianne.Larouche@cqsb.qc.ca 57. holly.schmidt@cqsb.qc.ca 58. Jessica.Duguay@cqsb.qc.ca 59. melissa.theriault@cqsb.qc.ca 60. saracalibaba@hotmail.com 61. Kimberly.Martel@cqsb.qc.ca 62. Marianne.Larouche@cqsb.qc.ca 63. Christine.Tremblay@cqsb.qc.ca 64. %20saracalibaba@hotmail.com 65. derek.savoy@cqsb.qc.ca 66. catherine.bouchard@cqsb.qc.ca 67. Katie.Boulianne@cqsb.qc.ca 68. melissa.theriault@cqsb.qc.ca 69. stpatsqc@cqsb.qc.ca 70. Christine.Arseneault@cqsb.qc.ca  71. Debby.Aubin@cqsb.qc.ca  72. Enya.Berthiaume@cqsb.qc.ca  73. Andre-Anne.Bouchard@cqsb.qc.ca  74. Carmen.Bowles@cqsb.qc.ca 75.  Ellen.Boyce@cqsb.qc.ca  76. Steve.Bungay@cqsb.qc.ca  77. Tracey.Bureau@cqsb.qc.ca  78. Marie-Gabrielle.Cannon@cqsb.qc.ca  79. Katie.Clow@cqsb.qc.ca  80. Annie.Desjardins@cqsb.qc.ca  81. Alexi.Drolet@cqsb.qc.ca  82. Michael.Faulds@cqsb.qc.ca  83. Eileen.Fiset@cqsb.qc.ca  84. Steven.Fortin@cqsb.qc.ca  85. Christian.Fradette@cqsb.qc.ca 86. Stephanie.Frenette-Blais@cqsb.qc.ca  87. Amelie.Garneau@cqsb.qc.ca  88. Douglas.Hincks@cqsb.qc.ca  89. Paul.Hudson@cqsb.qc.ca  90. David.Jeffrey@cqsb.qc.ca 91. Joanne.Johnston@cqsb.qc.ca  92. Daniele.Jones@cqsb.qc.ca  93. Nicholas.Keats@cqsb.qc.ca  94. Catherine.Kelly@cqsb.qc.ca  95. Gary.Kenler@cqsb.qc.ca  96. Adriana.Kozanitis@cqsb.qc.ca  97. Lindsay.Leblanc@cqsb.qc.ca  98. Valerie.Lebel@cqsb.qc.ca  99. Katherine.Lefebvre@cqsb.qc.ca  100. Cindy.Lessard@cqsb.qc.ca  101. Kevin.McEwen@cqsb.qc.ca  102. Janet.Mulroney@cqsb.qc.ca 103. Laura.ParadisDelisle@cqsb.qc.ca  104. Marie.Purcell@cqsb.qc.ca  105. Tennysa.Quirion@cqsb.qc.ca  106. Suzie.Racine@cqsb.qc.ca  107. Amy.Rifai@cqsb.qc.ca  108. MarieJosee.Robinson@cqsb.qc.ca  109. Janis.Rock@cqsb.qc.ca  110. Kari.Shillington@cqsb.qc.ca  111. Christine.Smith@cqsb.qc.ca  112. Rebecca.Smith@cqsb.qc.ca  113. Nadine.Taylor@cqsb.qc.ca  114. Celine.Vallieres@cqsb.qc.ca  115. Sophie.Verret@cqsb.qc.ca  116. Judith.Vezina@cqsb.qc.ca  117. Joanie.Villeneuve@cqsb.qc.ca\u001b[0m\n\u001b[1;37m                     ^\u001b[0m\n\u001b[1;31mSyntaxError\u001b[0m\u001b[1;31m:\u001b[0m invalid syntax\n"
     ]
    }
   ],
   "source": [
    "x=1. reception_euq@ursulinesquebec.com 2. st-johnsemail@rsb.qc.ca 3. warren.thomson@cqsb.qc.ca 4. joanne.arsenault@cqsb.qc.ca 5. karolyne.bouchard@cqsb.qc.ca 6. josee.simard@cqsb.qc.ca 7. christopher.wotherspoon@cqsb.qc.ca 8. penelopejoy.webster@cqsb.qc.ca 9. stephane.tremblay@cqsb.qc.ca 10. edward.sweeney@cqsb.qc.ca 11. sophie.couture@cqsb.qc.ca 12. suzie.chiasson-renaud@cqsb.qc.ca 13. eric.berube@cqsb.qc.ca 14. daniel.parent@cqsb.qc.ca 15. essam.abdelhamid@cqsb.qc.ca 16. annie.aube@cqsb.qc.ca 17. daniel.awalt@cqsb.qc.ca 18. denis-francis.beauchamp@cqsb.qc.ca 19. sarah.blair@cqsb.qc.ca 20. marne.bourbonnais@cqsb.qc.ca 21. julie.bown@cqsb.qc.ca 22. paula.breton@cqsb.qc.ca 23. maarten.buyck@cqsb.qc.ca 24. brenda.Leveillee-Cauchy@cqsb.qc.ca 25. derek.chan@cqsb.qc.ca 26. gregory.domonkos@cqsb.qc.ca 27. rickey.dwyer@cqsb.qc.ca 28. douglas.grant@cqsb.qc.ca 29. amanda.kusler@cqsb.qc.ca 30. david.lagace@cqsb.qc.ca 31. margaret.mcdonald@cqsb.qc.ca 32. daniel.weston@cqsb.qc.ca 33. julie.white@cqsb.qc.ca 34. susana.meisels@cqsb.qc.ca 35. Marie-Eve.Girard@cqsb.qc.ca  36. Catherine.OGallagher@cqsb.qc.ca  37. Katherine.Mackay@cqsb.qc.ca  38. Angelie.Caissy@cqsb.qc.ca  39. Natalie.Haberlin@cqsb.qc.ca  40. sarah.bernadet@cqsb.qc.ca 41. Jennifer.Anderson@cqsb.qc.ca 42. Stephanie.Beaudoin@cqsb.qc.ca 43. Anne-Marie.Pelletier@cqsb.qc.ca 44. Véronique.mailhot@cqsb.qc.ca 45. Kassandra.houle@cqsb.qc.ca 46. tracey.martin@cqsb.qc.ca 47. Paula.parsons@cqsb.qc.ca 48. Tiffany.Smith@cqsb.qc.ca 49. Martin.Trager@cqsb.qc.ca 50. Melissa.Verreault@cqsb.qc.ca 51. Emily.Talbot-Lagloire@cqsb.qc.ca 52. Lonergan@cqsb.qc.ca 53. Viviane.Gelinas@cqsb.qc.ca 54. Chantale.Caron@cqsb.qc.ca 55. Kimberly.Martel@cqsb.qc.ca 56. Marianne.Larouche@cqsb.qc.ca 57. holly.schmidt@cqsb.qc.ca 58. Jessica.Duguay@cqsb.qc.ca 59. melissa.theriault@cqsb.qc.ca 60. saracalibaba@hotmail.com 61. Kimberly.Martel@cqsb.qc.ca 62. Marianne.Larouche@cqsb.qc.ca 63. Christine.Tremblay@cqsb.qc.ca 64. %20saracalibaba@hotmail.com 65. derek.savoy@cqsb.qc.ca 66. catherine.bouchard@cqsb.qc.ca 67. Katie.Boulianne@cqsb.qc.ca 68. melissa.theriault@cqsb.qc.ca 69. stpatsqc@cqsb.qc.ca 70. Christine.Arseneault@cqsb.qc.ca  71. Debby.Aubin@cqsb.qc.ca  72. Enya.Berthiaume@cqsb.qc.ca  73. Andre-Anne.Bouchard@cqsb.qc.ca  74. Carmen.Bowles@cqsb.qc.ca 75.  Ellen.Boyce@cqsb.qc.ca  76. Steve.Bungay@cqsb.qc.ca  77. Tracey.Bureau@cqsb.qc.ca  78. Marie-Gabrielle.Cannon@cqsb.qc.ca  79. Katie.Clow@cqsb.qc.ca  80. Annie.Desjardins@cqsb.qc.ca  81. Alexi.Drolet@cqsb.qc.ca  82. Michael.Faulds@cqsb.qc.ca  83. Eileen.Fiset@cqsb.qc.ca  84. Steven.Fortin@cqsb.qc.ca  85. Christian.Fradette@cqsb.qc.ca 86. Stephanie.Frenette-Blais@cqsb.qc.ca  87. Amelie.Garneau@cqsb.qc.ca  88. Douglas.Hincks@cqsb.qc.ca  89. Paul.Hudson@cqsb.qc.ca  90. David.Jeffrey@cqsb.qc.ca 91. Joanne.Johnston@cqsb.qc.ca  92. Daniele.Jones@cqsb.qc.ca  93. Nicholas.Keats@cqsb.qc.ca  94. Catherine.Kelly@cqsb.qc.ca  95. Gary.Kenler@cqsb.qc.ca  96. Adriana.Kozanitis@cqsb.qc.ca  97. Lindsay.Leblanc@cqsb.qc.ca  98. Valerie.Lebel@cqsb.qc.ca  99. Katherine.Lefebvre@cqsb.qc.ca  100. Cindy.Lessard@cqsb.qc.ca  101. Kevin.McEwen@cqsb.qc.ca  102. Janet.Mulroney@cqsb.qc.ca 103. Laura.ParadisDelisle@cqsb.qc.ca  104. Marie.Purcell@cqsb.qc.ca  105. Tennysa.Quirion@cqsb.qc.ca  106. Suzie.Racine@cqsb.qc.ca  107. Amy.Rifai@cqsb.qc.ca  108. MarieJosee.Robinson@cqsb.qc.ca  109. Janis.Rock@cqsb.qc.ca  110. Kari.Shillington@cqsb.qc.ca  111. Christine.Smith@cqsb.qc.ca  112. Rebecca.Smith@cqsb.qc.ca  113. Nadine.Taylor@cqsb.qc.ca  114. Celine.Vallieres@cqsb.qc.ca  115. Sophie.Verret@cqsb.qc.ca  116. Judith.Vezina@cqsb.qc.ca  117. Joanie.Villeneuve@cqsb.qc.ca"
   ]
  },
  {
   "cell_type": "code",
   "execution_count": 2,
   "metadata": {},
   "outputs": [],
   "source": [
    "x=\"1. reception_euq@ursulinesquebec.com 2. st-johnsemail@rsb.qc.ca 3. warren.thomson@cqsb.qc.ca 4. joanne.arsenault@cqsb.qc.ca 5. karolyne.bouchard@cqsb.qc.ca 6. josee.simard@cqsb.qc.ca 7. christopher.wotherspoon@cqsb.qc.ca 8. penelopejoy.webster@cqsb.qc.ca 9. stephane.tremblay@cqsb.qc.ca 10. edward.sweeney@cqsb.qc.ca 11. sophie.couture@cqsb.qc.ca 12. suzie.chiasson-renaud@cqsb.qc.ca 13. eric.berube@cqsb.qc.ca 14. daniel.parent@cqsb.qc.ca 15. essam.abdelhamid@cqsb.qc.ca 16. annie.aube@cqsb.qc.ca 17. daniel.awalt@cqsb.qc.ca 18. denis-francis.beauchamp@cqsb.qc.ca 19. sarah.blair@cqsb.qc.ca 20. marne.bourbonnais@cqsb.qc.ca 21. julie.bown@cqsb.qc.ca 22. paula.breton@cqsb.qc.ca 23. maarten.buyck@cqsb.qc.ca 24. brenda.Leveillee-Cauchy@cqsb.qc.ca 25. derek.chan@cqsb.qc.ca 26. gregory.domonkos@cqsb.qc.ca 27. rickey.dwyer@cqsb.qc.ca 28. douglas.grant@cqsb.qc.ca 29. amanda.kusler@cqsb.qc.ca 30. david.lagace@cqsb.qc.ca 31. margaret.mcdonald@cqsb.qc.ca 32. daniel.weston@cqsb.qc.ca 33. julie.white@cqsb.qc.ca 34. susana.meisels@cqsb.qc.ca 35. Marie-Eve.Girard@cqsb.qc.ca  36. Catherine.OGallagher@cqsb.qc.ca  37. Katherine.Mackay@cqsb.qc.ca  38. Angelie.Caissy@cqsb.qc.ca  39. Natalie.Haberlin@cqsb.qc.ca  40. sarah.bernadet@cqsb.qc.ca 41. Jennifer.Anderson@cqsb.qc.ca 42. Stephanie.Beaudoin@cqsb.qc.ca 43. Anne-Marie.Pelletier@cqsb.qc.ca 44. Véronique.mailhot@cqsb.qc.ca 45. Kassandra.houle@cqsb.qc.ca 46. tracey.martin@cqsb.qc.ca 47. Paula.parsons@cqsb.qc.ca 48. Tiffany.Smith@cqsb.qc.ca 49. Martin.Trager@cqsb.qc.ca 50. Melissa.Verreault@cqsb.qc.ca 51. Emily.Talbot-Lagloire@cqsb.qc.ca 52. Lonergan@cqsb.qc.ca 53. Viviane.Gelinas@cqsb.qc.ca 54. Chantale.Caron@cqsb.qc.ca 55. Kimberly.Martel@cqsb.qc.ca 56. Marianne.Larouche@cqsb.qc.ca 57. holly.schmidt@cqsb.qc.ca 58. Jessica.Duguay@cqsb.qc.ca 59. melissa.theriault@cqsb.qc.ca 60. saracalibaba@hotmail.com 61. Kimberly.Martel@cqsb.qc.ca 62. Marianne.Larouche@cqsb.qc.ca 63. Christine.Tremblay@cqsb.qc.ca 64. %20saracalibaba@hotmail.com 65. derek.savoy@cqsb.qc.ca 66. catherine.bouchard@cqsb.qc.ca 67. Katie.Boulianne@cqsb.qc.ca 68. melissa.theriault@cqsb.qc.ca 69. stpatsqc@cqsb.qc.ca 70. Christine.Arseneault@cqsb.qc.ca  71. Debby.Aubin@cqsb.qc.ca  72. Enya.Berthiaume@cqsb.qc.ca  73. Andre-Anne.Bouchard@cqsb.qc.ca  74. Carmen.Bowles@cqsb.qc.ca 75.  Ellen.Boyce@cqsb.qc.ca  76. Steve.Bungay@cqsb.qc.ca  77. Tracey.Bureau@cqsb.qc.ca  78. Marie-Gabrielle.Cannon@cqsb.qc.ca  79. Katie.Clow@cqsb.qc.ca  80. Annie.Desjardins@cqsb.qc.ca  81. Alexi.Drolet@cqsb.qc.ca  82. Michael.Faulds@cqsb.qc.ca  83. Eileen.Fiset@cqsb.qc.ca  84. Steven.Fortin@cqsb.qc.ca  85. Christian.Fradette@cqsb.qc.ca 86. Stephanie.Frenette-Blais@cqsb.qc.ca  87. Amelie.Garneau@cqsb.qc.ca  88. Douglas.Hincks@cqsb.qc.ca  89. Paul.Hudson@cqsb.qc.ca  90. David.Jeffrey@cqsb.qc.ca 91. Joanne.Johnston@cqsb.qc.ca  92. Daniele.Jones@cqsb.qc.ca  93. Nicholas.Keats@cqsb.qc.ca  94. Catherine.Kelly@cqsb.qc.ca  95. Gary.Kenler@cqsb.qc.ca  96. Adriana.Kozanitis@cqsb.qc.ca  97. Lindsay.Leblanc@cqsb.qc.ca  98. Valerie.Lebel@cqsb.qc.ca  99. Katherine.Lefebvre@cqsb.qc.ca  100. Cindy.Lessard@cqsb.qc.ca  101. Kevin.McEwen@cqsb.qc.ca  102. Janet.Mulroney@cqsb.qc.ca 103. Laura.ParadisDelisle@cqsb.qc.ca  104. Marie.Purcell@cqsb.qc.ca  105. Tennysa.Quirion@cqsb.qc.ca  106. Suzie.Racine@cqsb.qc.ca  107. Amy.Rifai@cqsb.qc.ca  108. MarieJosee.Robinson@cqsb.qc.ca  109. Janis.Rock@cqsb.qc.ca  110. Kari.Shillington@cqsb.qc.ca  111. Christine.Smith@cqsb.qc.ca  112. Rebecca.Smith@cqsb.qc.ca  113. Nadine.Taylor@cqsb.qc.ca  114. Celine.Vallieres@cqsb.qc.ca  115. Sophie.Verret@cqsb.qc.ca  116. Judith.Vezina@cqsb.qc.ca  117. Joanie.Villeneuve@cqsb.qc.ca\""
   ]
  },
  {
   "cell_type": "code",
   "execution_count": 11,
   "metadata": {},
   "outputs": [],
   "source": [
    "k=[]\n",
    "l=[]"
   ]
  },
  {
   "cell_type": "code",
   "execution_count": 12,
   "metadata": {},
   "outputs": [],
   "source": [
    "y = x .split()"
   ]
  },
  {
   "cell_type": "code",
   "execution_count": 18,
   "metadata": {},
   "outputs": [],
   "source": [
    "x=1\n",
    "for e in y:\n",
    "    if x%2==1:\n",
    "        x+=1\n",
    "    else:\n",
    "        l.append(e)\n",
    "        x+=1"
   ]
  },
  {
   "cell_type": "code",
   "execution_count": 23,
   "metadata": {},
   "outputs": [],
   "source": [
    "c = \" \".join(l[117:])"
   ]
  },
  {
   "cell_type": "code",
   "execution_count": 25,
   "metadata": {},
   "outputs": [
    {
     "name": "stdout",
     "output_type": "stream",
     "text": [
      "reception_euq@ursulinesquebec.com st-johnsemail@rsb.qc.ca warren.thomson@cqsb.qc.ca joanne.arsenault@cqsb.qc.ca karolyne.bouchard@cqsb.qc.ca josee.simard@cqsb.qc.ca christopher.wotherspoon@cqsb.qc.ca penelopejoy.webster@cqsb.qc.ca stephane.tremblay@cqsb.qc.ca edward.sweeney@cqsb.qc.ca sophie.couture@cqsb.qc.ca suzie.chiasson-renaud@cqsb.qc.ca eric.berube@cqsb.qc.ca daniel.parent@cqsb.qc.ca essam.abdelhamid@cqsb.qc.ca annie.aube@cqsb.qc.ca daniel.awalt@cqsb.qc.ca denis-francis.beauchamp@cqsb.qc.ca sarah.blair@cqsb.qc.ca marne.bourbonnais@cqsb.qc.ca julie.bown@cqsb.qc.ca paula.breton@cqsb.qc.ca maarten.buyck@cqsb.qc.ca brenda.Leveillee-Cauchy@cqsb.qc.ca derek.chan@cqsb.qc.ca gregory.domonkos@cqsb.qc.ca rickey.dwyer@cqsb.qc.ca douglas.grant@cqsb.qc.ca amanda.kusler@cqsb.qc.ca david.lagace@cqsb.qc.ca margaret.mcdonald@cqsb.qc.ca daniel.weston@cqsb.qc.ca julie.white@cqsb.qc.ca susana.meisels@cqsb.qc.ca Marie-Eve.Girard@cqsb.qc.ca Catherine.OGallagher@cqsb.qc.ca Katherine.Mackay@cqsb.qc.ca Angelie.Caissy@cqsb.qc.ca Natalie.Haberlin@cqsb.qc.ca sarah.bernadet@cqsb.qc.ca Jennifer.Anderson@cqsb.qc.ca Stephanie.Beaudoin@cqsb.qc.ca Anne-Marie.Pelletier@cqsb.qc.ca Véronique.mailhot@cqsb.qc.ca Kassandra.houle@cqsb.qc.ca tracey.martin@cqsb.qc.ca Paula.parsons@cqsb.qc.ca Tiffany.Smith@cqsb.qc.ca Martin.Trager@cqsb.qc.ca Melissa.Verreault@cqsb.qc.ca Emily.Talbot-Lagloire@cqsb.qc.ca Lonergan@cqsb.qc.ca Viviane.Gelinas@cqsb.qc.ca Chantale.Caron@cqsb.qc.ca Kimberly.Martel@cqsb.qc.ca Marianne.Larouche@cqsb.qc.ca holly.schmidt@cqsb.qc.ca Jessica.Duguay@cqsb.qc.ca melissa.theriault@cqsb.qc.ca saracalibaba@hotmail.com Kimberly.Martel@cqsb.qc.ca Marianne.Larouche@cqsb.qc.ca Christine.Tremblay@cqsb.qc.ca %20saracalibaba@hotmail.com derek.savoy@cqsb.qc.ca catherine.bouchard@cqsb.qc.ca Katie.Boulianne@cqsb.qc.ca melissa.theriault@cqsb.qc.ca stpatsqc@cqsb.qc.ca Christine.Arseneault@cqsb.qc.ca Debby.Aubin@cqsb.qc.ca Enya.Berthiaume@cqsb.qc.ca Andre-Anne.Bouchard@cqsb.qc.ca Carmen.Bowles@cqsb.qc.ca Ellen.Boyce@cqsb.qc.ca Steve.Bungay@cqsb.qc.ca Tracey.Bureau@cqsb.qc.ca Marie-Gabrielle.Cannon@cqsb.qc.ca Katie.Clow@cqsb.qc.ca Annie.Desjardins@cqsb.qc.ca Alexi.Drolet@cqsb.qc.ca Michael.Faulds@cqsb.qc.ca Eileen.Fiset@cqsb.qc.ca Steven.Fortin@cqsb.qc.ca Christian.Fradette@cqsb.qc.ca Stephanie.Frenette-Blais@cqsb.qc.ca Amelie.Garneau@cqsb.qc.ca Douglas.Hincks@cqsb.qc.ca Paul.Hudson@cqsb.qc.ca David.Jeffrey@cqsb.qc.ca Joanne.Johnston@cqsb.qc.ca Daniele.Jones@cqsb.qc.ca Nicholas.Keats@cqsb.qc.ca Catherine.Kelly@cqsb.qc.ca Gary.Kenler@cqsb.qc.ca Adriana.Kozanitis@cqsb.qc.ca Lindsay.Leblanc@cqsb.qc.ca Valerie.Lebel@cqsb.qc.ca Katherine.Lefebvre@cqsb.qc.ca Cindy.Lessard@cqsb.qc.ca Kevin.McEwen@cqsb.qc.ca Janet.Mulroney@cqsb.qc.ca Laura.ParadisDelisle@cqsb.qc.ca Marie.Purcell@cqsb.qc.ca Tennysa.Quirion@cqsb.qc.ca Suzie.Racine@cqsb.qc.ca Amy.Rifai@cqsb.qc.ca MarieJosee.Robinson@cqsb.qc.ca Janis.Rock@cqsb.qc.ca Kari.Shillington@cqsb.qc.ca Christine.Smith@cqsb.qc.ca Rebecca.Smith@cqsb.qc.ca Nadine.Taylor@cqsb.qc.ca Celine.Vallieres@cqsb.qc.ca Sophie.Verret@cqsb.qc.ca Judith.Vezina@cqsb.qc.ca Joanie.Villeneuve@cqsb.qc.ca reception_euq@ursulinesquebec.com st-johnsemail@rsb.qc.ca warren.thomson@cqsb.qc.ca joanne.arsenault@cqsb.qc.ca karolyne.bouchard@cqsb.qc.ca josee.simard@cqsb.qc.ca christopher.wotherspoon@cqsb.qc.ca penelopejoy.webster@cqsb.qc.ca stephane.tremblay@cqsb.qc.ca edward.sweeney@cqsb.qc.ca sophie.couture@cqsb.qc.ca suzie.chiasson-renaud@cqsb.qc.ca eric.berube@cqsb.qc.ca daniel.parent@cqsb.qc.ca essam.abdelhamid@cqsb.qc.ca annie.aube@cqsb.qc.ca daniel.awalt@cqsb.qc.ca denis-francis.beauchamp@cqsb.qc.ca sarah.blair@cqsb.qc.ca marne.bourbonnais@cqsb.qc.ca julie.bown@cqsb.qc.ca paula.breton@cqsb.qc.ca maarten.buyck@cqsb.qc.ca brenda.Leveillee-Cauchy@cqsb.qc.ca derek.chan@cqsb.qc.ca gregory.domonkos@cqsb.qc.ca rickey.dwyer@cqsb.qc.ca douglas.grant@cqsb.qc.ca amanda.kusler@cqsb.qc.ca david.lagace@cqsb.qc.ca margaret.mcdonald@cqsb.qc.ca daniel.weston@cqsb.qc.ca julie.white@cqsb.qc.ca susana.meisels@cqsb.qc.ca Marie-Eve.Girard@cqsb.qc.ca Catherine.OGallagher@cqsb.qc.ca Katherine.Mackay@cqsb.qc.ca Angelie.Caissy@cqsb.qc.ca Natalie.Haberlin@cqsb.qc.ca sarah.bernadet@cqsb.qc.ca Jennifer.Anderson@cqsb.qc.ca Stephanie.Beaudoin@cqsb.qc.ca Anne-Marie.Pelletier@cqsb.qc.ca Véronique.mailhot@cqsb.qc.ca Kassandra.houle@cqsb.qc.ca tracey.martin@cqsb.qc.ca Paula.parsons@cqsb.qc.ca Tiffany.Smith@cqsb.qc.ca Martin.Trager@cqsb.qc.ca Melissa.Verreault@cqsb.qc.ca Emily.Talbot-Lagloire@cqsb.qc.ca Lonergan@cqsb.qc.ca Viviane.Gelinas@cqsb.qc.ca Chantale.Caron@cqsb.qc.ca Kimberly.Martel@cqsb.qc.ca Marianne.Larouche@cqsb.qc.ca holly.schmidt@cqsb.qc.ca Jessica.Duguay@cqsb.qc.ca melissa.theriault@cqsb.qc.ca saracalibaba@hotmail.com Kimberly.Martel@cqsb.qc.ca Marianne.Larouche@cqsb.qc.ca Christine.Tremblay@cqsb.qc.ca %20saracalibaba@hotmail.com derek.savoy@cqsb.qc.ca catherine.bouchard@cqsb.qc.ca Katie.Boulianne@cqsb.qc.ca melissa.theriault@cqsb.qc.ca stpatsqc@cqsb.qc.ca Christine.Arseneault@cqsb.qc.ca Debby.Aubin@cqsb.qc.ca Enya.Berthiaume@cqsb.qc.ca Andre-Anne.Bouchard@cqsb.qc.ca Carmen.Bowles@cqsb.qc.ca Ellen.Boyce@cqsb.qc.ca Steve.Bungay@cqsb.qc.ca Tracey.Bureau@cqsb.qc.ca Marie-Gabrielle.Cannon@cqsb.qc.ca Katie.Clow@cqsb.qc.ca Annie.Desjardins@cqsb.qc.ca Alexi.Drolet@cqsb.qc.ca Michael.Faulds@cqsb.qc.ca Eileen.Fiset@cqsb.qc.ca Steven.Fortin@cqsb.qc.ca Christian.Fradette@cqsb.qc.ca Stephanie.Frenette-Blais@cqsb.qc.ca Amelie.Garneau@cqsb.qc.ca Douglas.Hincks@cqsb.qc.ca Paul.Hudson@cqsb.qc.ca David.Jeffrey@cqsb.qc.ca Joanne.Johnston@cqsb.qc.ca Daniele.Jones@cqsb.qc.ca Nicholas.Keats@cqsb.qc.ca Catherine.Kelly@cqsb.qc.ca Gary.Kenler@cqsb.qc.ca Adriana.Kozanitis@cqsb.qc.ca Lindsay.Leblanc@cqsb.qc.ca Valerie.Lebel@cqsb.qc.ca Katherine.Lefebvre@cqsb.qc.ca Cindy.Lessard@cqsb.qc.ca Kevin.McEwen@cqsb.qc.ca Janet.Mulroney@cqsb.qc.ca Laura.ParadisDelisle@cqsb.qc.ca Marie.Purcell@cqsb.qc.ca Tennysa.Quirion@cqsb.qc.ca Suzie.Racine@cqsb.qc.ca Amy.Rifai@cqsb.qc.ca MarieJosee.Robinson@cqsb.qc.ca Janis.Rock@cqsb.qc.ca Kari.Shillington@cqsb.qc.ca Christine.Smith@cqsb.qc.ca Rebecca.Smith@cqsb.qc.ca Nadine.Taylor@cqsb.qc.ca Celine.Vallieres@cqsb.qc.ca Sophie.Verret@cqsb.qc.ca Judith.Vezina@cqsb.qc.ca Joanie.Villeneuve@cqsb.qc.ca\n"
     ]
    }
   ],
   "source": [
    "print(c)"
   ]
  },
  {
   "cell_type": "code",
   "execution_count": null,
   "metadata": {},
   "outputs": [],
   "source": []
  }
 ],
 "metadata": {
  "kernelspec": {
   "display_name": "Python 3",
   "language": "python",
   "name": "python3"
  },
  "language_info": {
   "codemirror_mode": {
    "name": "ipython",
    "version": 3
   },
   "file_extension": ".py",
   "mimetype": "text/x-python",
   "name": "python",
   "nbconvert_exporter": "python",
   "pygments_lexer": "ipython3",
   "version": "3.7.6"
  }
 },
 "nbformat": 4,
 "nbformat_minor": 4
}
