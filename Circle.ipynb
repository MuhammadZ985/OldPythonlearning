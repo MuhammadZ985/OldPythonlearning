{
 "cells": [
  {
   "cell_type": "code",
   "execution_count": 1,
   "metadata": {},
   "outputs": [],
   "source": [
    "class Circle():\n",
    "    Pi = 3.1415\n",
    "    def __init__ (self, xpostion, yposition, radius):\n",
    "        self.xpos = xpostion\n",
    "        self.ypos = yposition\n",
    "        self.rad = radius\n",
    "    \n",
    "    def __str__(self):\n",
    "        return (\"Circle at position ({x}, {y}) radius= {r}\".format(x=self.xpos, y=self.ypos, r=self.rad))\n",
    "    \n",
    "    def perimeter(self):\n",
    "        return 2*self.Pi*self.rad\n",
    "    \n",
    "    def isconcentric(self, circle):\n",
    "        return self.xpos == circle.xpos and self.ypos == circle.ypos\n",
    "    \n",
    "    def inside_circle(self,point_x, point_y):\n",
    "        return self.rad >= (((self.xpos-point_x)**2)+((self.ypos-point_y)**2))**(0.5)"
   ]
  },
  {
   "cell_type": "code",
   "execution_count": 2,
   "metadata": {},
   "outputs": [
    {
     "data": {
      "text/plain": [
       "False"
      ]
     },
     "execution_count": 2,
     "metadata": {},
     "output_type": "execute_result"
    }
   ],
   "source": [
    "c1 = Circle(6,7,8)\n",
    "c2 = Circle(-4,8,3)\n",
    "c3 = Circle(-4,8,6)\n",
    "c1.perimeter()\n",
    "c2.isconcentric(c1)\n",
    "c1.inside_circle(4,4)\n",
    "c2.inside_circle(4,4)\n",
    "c3.inside_circle(4,4)"
   ]
  },
  {
   "cell_type": "code",
   "execution_count": null,
   "metadata": {},
   "outputs": [],
   "source": []
  },
  {
   "cell_type": "code",
   "execution_count": null,
   "metadata": {},
   "outputs": [],
   "source": []
  },
  {
   "cell_type": "code",
   "execution_count": null,
   "metadata": {},
   "outputs": [],
   "source": []
  },
  {
   "cell_type": "code",
   "execution_count": null,
   "metadata": {},
   "outputs": [],
   "source": []
  },
  {
   "cell_type": "code",
   "execution_count": null,
   "metadata": {},
   "outputs": [],
   "source": []
  }
 ],
 "metadata": {
  "kernelspec": {
   "display_name": "Python 3",
   "language": "python",
   "name": "python3"
  },
  "language_info": {
   "codemirror_mode": {
    "name": "ipython",
    "version": 3
   },
   "file_extension": ".py",
   "mimetype": "text/x-python",
   "name": "python",
   "nbconvert_exporter": "python",
   "pygments_lexer": "ipython3",
   "version": "3.7.6"
  }
 },
 "nbformat": 4,
 "nbformat_minor": 4
}
